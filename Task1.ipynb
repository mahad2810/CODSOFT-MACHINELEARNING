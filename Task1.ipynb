{
 "cells": [
  {
   "cell_type": "code",
   "execution_count": 5,
   "id": "2f180993-0c66-4c8e-921b-ca922f14421d",
   "metadata": {},
   "outputs": [
    {
     "name": "stdout",
     "output_type": "stream",
     "text": [
      "Validation Accuracy: 0.55\n",
      "Classification Report:\n",
      "              precision    recall  f1-score   support\n",
      "\n",
      "       drama       0.33      0.46      0.38       263\n",
      "      comedy       0.44      0.56      0.49       118\n",
      "   biography       0.25      0.29      0.27       155\n",
      "     romance       0.19      0.23      0.21       100\n",
      " documentary       0.00      0.00      0.00        53\n",
      "        news       0.57      0.56      0.56      1490\n",
      "       short       0.16      0.17      0.16       101\n",
      "      horror       0.75      0.74      0.75      2619\n",
      "      family       0.65      0.54      0.59      2723\n",
      "    thriller       0.22      0.27      0.24       157\n",
      "     western       0.08      0.08      0.08        65\n",
      "       adult       0.75      0.62      0.68        39\n",
      "     musical       0.17      0.14      0.16        49\n",
      "   game-show       0.59      0.69      0.64       441\n",
      "       crime       0.51      0.63      0.56       146\n",
      "   talk-show       0.19      0.16      0.17        55\n",
      "     fantasy       0.06      0.06      0.06        64\n",
      "      action       0.23      0.14      0.17        36\n",
      "      sci-fi       0.32      0.42      0.36       177\n",
      "     history       0.15      0.22      0.18       134\n",
      "       music       0.37      0.51      0.43       129\n",
      "   animation       0.43      0.40      0.41      1015\n",
      "   adventure       0.50      0.70      0.58        86\n",
      "     mystery       0.37      0.37      0.37        78\n",
      "  reality-tv       0.25      0.31      0.28       318\n",
      "       sport       0.36      0.31      0.33        26\n",
      "         war       0.77      0.84      0.80       206\n",
      "\n",
      "    accuracy                           0.55     10843\n",
      "   macro avg       0.36      0.39      0.37     10843\n",
      "weighted avg       0.56      0.55      0.55     10843\n",
      "\n",
      "Predictions saved to 'predicted_genres.csv'.\n"
     ]
    }
   ],
   "source": [
    "import pandas as pd\n",
    "from sklearn.feature_extraction.text import TfidfVectorizer\n",
    "from sklearn.model_selection import train_test_split, GridSearchCV\n",
    "from sklearn.linear_model import LogisticRegression\n",
    "from sklearn.metrics import accuracy_score, classification_report\n",
    "from sklearn.utils.class_weight import compute_class_weight\n",
    "\n",
    "train_data = pd.read_csv(\"train_data.txt\", sep=\":::\", engine=\"python\", names=[\"ID\", \"TITLE\", \"GENRE\", \"DESCRIPTION\"])\n",
    "test_data = pd.read_csv(\"test_data.txt\", sep=\":::\", engine=\"python\", names=[\"ID\", \"TITLE\", \"DESCRIPTION\"])\n",
    "\n",
    "X = train_data[\"DESCRIPTION\"].fillna(\"\")\n",
    "y = train_data[\"GENRE\"].str.strip()\n",
    "\n",
    "X_train, X_val, y_train, y_val = train_test_split(X, y, test_size=0.2, random_state=42, stratify=y)\n",
    "\n",
    "tfidf = TfidfVectorizer(max_features=10000, ngram_range=(1, 3), stop_words=\"english\")\n",
    "X_train_tfidf = tfidf.fit_transform(X_train)\n",
    "X_val_tfidf = tfidf.transform(X_val)\n",
    "X_test_tfidf = tfidf.transform(test_data[\"DESCRIPTION\"].fillna(\"\"))\n",
    "\n",
    "unique_classes = y_train.unique()\n",
    "class_weights = compute_class_weight(class_weight=\"balanced\", classes=unique_classes, y=y_train)\n",
    "class_weights_dict = {cls: weight for cls, weight in zip(unique_classes, class_weights)}\n",
    "\n",
    "lr = LogisticRegression(max_iter=5000, class_weight=class_weights_dict)\n",
    "param_grid = {\"C\": [0.01, 0.1, 1, 10], \"solver\": [\"lbfgs\", \"liblinear\"]}\n",
    "\n",
    "grid_search = GridSearchCV(lr, param_grid, scoring=\"accuracy\", cv=3, n_jobs=-1)\n",
    "grid_search.fit(X_train_tfidf, y_train)\n",
    "\n",
    "best_lr = grid_search.best_estimator_\n",
    "\n",
    "y_val_pred = best_lr.predict(X_val_tfidf)\n",
    "accuracy = accuracy_score(y_val, y_val_pred)\n",
    "report = classification_report(y_val, y_val_pred, target_names=unique_classes)\n",
    "\n",
    "print(f\"Validation Accuracy: {accuracy:.2f}\")\n",
    "print(\"Classification Report:\")\n",
    "print(report)\n",
    "\n",
    "test_data[\"PREDICTED_GENRE\"] = best_lr.predict(X_test_tfidf)\n",
    "test_data[[\"ID\", \"TITLE\", \"PREDICTED_GENRE\"]].to_csv(\"predicted_genres.csv\", index=False)\n",
    "print(\"Predictions saved to 'predicted_genres.csv'.\")\n"
   ]
  },
  {
   "cell_type": "code",
   "execution_count": null,
   "id": "e9071dc7-8900-4fb4-adf5-00dd46d15246",
   "metadata": {},
   "outputs": [],
   "source": []
  }
 ],
 "metadata": {
  "kernelspec": {
   "display_name": "Python 3 (ipykernel)",
   "language": "python",
   "name": "python3"
  },
  "language_info": {
   "codemirror_mode": {
    "name": "ipython",
    "version": 3
   },
   "file_extension": ".py",
   "mimetype": "text/x-python",
   "name": "python",
   "nbconvert_exporter": "python",
   "pygments_lexer": "ipython3",
   "version": "3.11.5"
  }
 },
 "nbformat": 4,
 "nbformat_minor": 5
}
